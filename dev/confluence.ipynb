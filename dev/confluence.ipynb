{
 "cells": [
  {
   "cell_type": "code",
   "execution_count": 7,
   "metadata": {},
   "outputs": [
    {
     "name": "stdout",
     "output_type": "stream",
     "text": [
      "API_URL: http://super-rag:8083\n",
      "PINECONE_API_KEY: \n",
      "PINECONE_INDEX: \n",
      "PINECONE_HOST: \n",
      "WEAVIATE_API_KEY: InsecurePassword\n",
      "WEAVIATE_INDEX: Superrag1\n",
      "WEAVIATE_URL: http://weaviate:8082\n"
     ]
    }
   ],
   "source": [
    "import os\n",
    "import requests\n",
    "from dotenv import load_dotenv\n",
    "load_dotenv()\n",
    "\n",
    "API_URL = os.environ.get('API_BASE_URL', 'http://super-rag:8081')\n",
    "\n",
    "PINECONE_INDEX = os.getenv(\"PINECONE_INDEX\", \"\")\n",
    "PINECONE_API_KEY = os.getenv(\"PINECONE_API_KEY\", \"\")\n",
    "PINECONE_HOST = os.getenv(\"PINECONE_HOST\", \"\")\n",
    "\n",
    "WEAVIATE_API_KEY = os.environ.get('WEAVIATE_API_KEY', '')\n",
    "WEAVIATE_INDEX = os.environ.get('WEAVIATE_INDEX', '')\n",
    "WEAVIATE_URL = os.environ.get('WEAVIATE_URL', '')\n",
    "\n",
    "print(\"API_URL:\", API_URL)\n",
    "\n",
    "print(\"PINECONE_API_KEY:\", PINECONE_API_KEY)\n",
    "print(\"PINECONE_INDEX:\", PINECONE_INDEX)\n",
    "print(\"PINECONE_HOST:\", PINECONE_HOST)\n",
    "\n",
    "print(\"WEAVIATE_API_KEY:\", WEAVIATE_API_KEY)\n",
    "print(\"WEAVIATE_INDEX:\", WEAVIATE_INDEX)\n",
    "print(\"WEAVIATE_URL:\", WEAVIATE_URL)"
   ]
  },
  {
   "cell_type": "code",
   "execution_count": null,
   "metadata": {},
   "outputs": [],
   "source": [
    "# Ingest a file\n",
    "url = f\"{API_URL}/api/v1/ingest\"\n",
    "\n",
    "payload = {\n",
    "    \"files\": [\n",
    "        {\n",
    "            \"type\": \"PDF\",\n",
    "            \"url\": \"https://arxiv.org/pdf/2402.05131.pdf\"\n",
    "        }\n",
    "    ],\n",
    "    \"vector_database\": {\n",
    "        \"type\": \"pinecone\",\n",
    "        \"config\": {\n",
    "            \"api_key\": PINECONE_API_KEY,\n",
    "            \"host\": PINECONE_HOST,\n",
    "        }\n",
    "    },\n",
    "    \"index_name\": PINECONE_INDEX,\n",
    "    \"encoder\": \"cohere\",\n",
    "}\n",
    "\n",
    "response = requests.post(url, json=payload)\n",
    "\n",
    "print(response.json())"
   ]
  },
  {
   "cell_type": "code",
   "execution_count": 10,
   "metadata": {},
   "outputs": [
    {
     "name": "stdout",
     "output_type": "stream",
     "text": [
      "{'success': True, 'index_name': 'Superrag1'}\n"
     ]
    }
   ],
   "source": [
    "# Ingest a file\n",
    "url = f\"{API_URL}/api/v1/ingest\"\n",
    "\n",
    "payload = {\n",
    "    \"files\": [\n",
    "        {\n",
    "            \"type\": \"PDF\",\n",
    "            \"url\": \"https://arxiv.org/pdf/2402.05131.pdf\"\n",
    "        }\n",
    "    ],\n",
    "    \"vector_database\": {\n",
    "        \"type\": \"weaviate\",\n",
    "        \"config\": {\n",
    "            \"api_key\": WEAVIATE_API_KEY,\n",
    "            \"host\": WEAVIATE_URL\n",
    "        }\n",
    "    },\n",
    "    \"index_name\": WEAVIATE_INDEX,\n",
    "    \"encoder\": {\n",
    "        \"type\": \"cohere\",\n",
    "        \"name\": \"embed-english-v3.0\",\n",
    "        \"dimensions\": 1024,\n",
    "    },\n",
    "}\n",
    "\n",
    "response = requests.post(url, json=payload)\n",
    "\n",
    "if response.status_code == 200:\n",
    "    try:\n",
    "        print(response.json())\n",
    "    except ValueError:\n",
    "        print(\"Response content is not valid JSON.\")\n",
    "else:\n",
    "    print(f\"Request failed with status code {response.status_code}: {response.text}\")\n"
   ]
  },
  {
   "cell_type": "code",
   "execution_count": null,
   "metadata": {},
   "outputs": [],
   "source": [
    "# Query the index\n",
    "query_url = f\"{API_URL}/api/v1/query\"\n",
    "\n",
    "query_payload = {\n",
    "    \"input\": \"What are the chunking strategies?\",\n",
    "    \"vector_database\": {\n",
    "        \"type\": \"pinecone\",\n",
    "        \"config\": {\n",
    "            \"api_key\": PINECONE_API_KEY,\n",
    "            \"host\": PINECONE_HOST,\n",
    "        }\n",
    "    },\n",
    "    \"index_name\": PINECONE_INDEX,\n",
    "    \"encoder\": \"cohere\",\n",
    "}\n",
    "\n",
    "query_response = requests.post(query_url, json=query_payload)\n",
    "\n",
    "print(query_response.json())"
   ]
  },
  {
   "cell_type": "code",
   "execution_count": null,
   "metadata": {},
   "outputs": [],
   "source": [
    "# Query the index\n",
    "query_url = f\"{API_URL}/api/v1/query\"\n",
    "\n",
    "query_payload = {\n",
    "    \"input\": \"What are the chunking strategies?\",\n",
    "    \"vector_database\": {\n",
    "        \"type\": \"weaviate\",\n",
    "        \"config\": {\n",
    "            \"api_key\": WEAVIATE_API_KEY,\n",
    "            \"host\": WEAVIATE_URL\n",
    "        }\n",
    "    },\n",
    "    \"index_name\": WEAVIATE_INDEX,\n",
    "    \"encoder\": \"cohere\",\n",
    "}\n",
    "\n",
    "query_response = requests.post(query_url, json=query_payload)\n",
    "\n",
    "print(query_response.json())"
   ]
  },
  {
   "cell_type": "code",
   "execution_count": null,
   "metadata": {},
   "outputs": [],
   "source": [
    "data = query_response.json().get('data', [])\n",
    "data"
   ]
  },
  {
   "cell_type": "code",
   "execution_count": null,
   "metadata": {},
   "outputs": [],
   "source": [
    "data = query_response.json().get('data', [])\n",
    "data"
   ]
  },
  {
   "cell_type": "code",
   "execution_count": null,
   "metadata": {},
   "outputs": [],
   "source": [
    "# Delete the index\n",
    "query_url = f\"{API_URL}/api/v1/delete\"\n",
    "\n",
    "delete_payload = {\n",
    "    \"file_url\": \"https://arxiv.org/pdf/2210.03629.pdf\",\n",
    "    \"vector_database\": {\n",
    "        \"type\": \"pinecone\",\n",
    "        \"config\": {\n",
    "            \"api_key\": PINECONE_API_KEY,\n",
    "            \"host\": PINECONE_HOST,\n",
    "        }\n",
    "    },\n",
    "    \"index_name\": PINECONE_INDEX,\n",
    "    \"encoder\": \"cohere\",\n",
    "}\n",
    "\n",
    "delete_response = requests.delete(query_url, json=delete_payload)\n",
    "\n",
    "print(delete_response.json())"
   ]
  },
  {
   "cell_type": "code",
   "execution_count": null,
   "metadata": {},
   "outputs": [],
   "source": [
    "# Delete the index\n",
    "query_url = f\"{API_URL}/api/v1/delete\"\n",
    "\n",
    "delete_payload = {\n",
    "    \"file_url\": \"https://arxiv.org/pdf/2402.05131.pdf\",\n",
    "    \"vector_database\": {\n",
    "        \"type\": \"weaviate\",\n",
    "        \"config\": {\n",
    "            \"api_key\": WEAVIATE_API_KEY,\n",
    "            \"host\": WEAVIATE_URL\n",
    "        }\n",
    "    },\n",
    "    \"index_name\": WEAVIATE_INDEX,\n",
    "    \"encoder\": \"cohere\"\n",
    "}\n",
    "\n",
    "delete_response = requests.delete(query_url, json=delete_payload)\n",
    "\n",
    "print(delete_response.json())"
   ]
  }
 ],
 "metadata": {
  "kernelspec": {
   "display_name": ".venv",
   "language": "python",
   "name": "python3"
  },
  "language_info": {
   "codemirror_mode": {
    "name": "ipython",
    "version": 3
   },
   "file_extension": ".py",
   "mimetype": "text/x-python",
   "name": "python",
   "nbconvert_exporter": "python",
   "pygments_lexer": "ipython3",
   "version": "3.11.8"
  }
 },
 "nbformat": 4,
 "nbformat_minor": 2
}
